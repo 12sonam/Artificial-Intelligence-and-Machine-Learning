{
  "nbformat": 4,
  "nbformat_minor": 0,
  "metadata": {
    "colab": {
      "provenance": []
    },
    "kernelspec": {
      "name": "python3",
      "display_name": "Python 3"
    },
    "language_info": {
      "name": "python"
    }
  },
  "cells": [
    {
      "cell_type": "markdown",
      "source": [
        "#4.1"
      ],
      "metadata": {
        "id": "Kawb6H5lKwoU"
      }
    },
    {
      "cell_type": "markdown",
      "source": [
        "#Task 1"
      ],
      "metadata": {
        "id": "fZRuIkWhK21Q"
      }
    },
    {
      "cell_type": "code",
      "source": [
        "def convert_length(value, unit):\n",
        "    \"\"\"\n",
        "    Converts length between meters and feet.\n",
        "    :param value: float, the numeric value to convert.\n",
        "    :param unit: str, 'm_to_ft' for meters to feet, 'ft_to_m' for feet to meters.\n",
        "    :return: float, converted value.\n",
        "    \"\"\"\n",
        "    if unit == 'm_to_ft':\n",
        "        return value * 3.28084\n",
        "    elif unit == 'ft_to_m':\n",
        "        return value / 3.28084\n",
        "    else:\n",
        "        raise ValueError(\"Invalid unit for length conversion.\")\n",
        "\n",
        "def convert_weight(value, unit):\n",
        "    \"\"\"\n",
        "    Converts weight between kilograms and pounds.\n",
        "    :param value: float, the numeric value to convert.\n",
        "    :param unit: str, 'kg_to_lbs' for kg to lbs, 'lbs_to_kg' for lbs to kg.\n",
        "    :return: float, converted value.\n",
        "    \"\"\"\n",
        "    if unit == 'kg_to_lbs':\n",
        "        return value * 2.20462\n",
        "    elif unit == 'lbs_to_kg':\n",
        "        return value / 2.20462\n",
        "    else:\n",
        "        raise ValueError(\"Invalid unit for weight conversion.\")\n",
        "\n",
        "def convert_volume(value, unit):\n",
        "    \"\"\"\n",
        "    Converts volume between liters and gallons.\n",
        "    :param value: float, the numeric value to convert.\n",
        "    :param unit: str, 'L_to_gal' for liters to gallons, 'gal_to_L' for gallons to liters.\n",
        "    :return: float, converted value.\n",
        "    \"\"\"\n",
        "    if unit == 'L_to_gal':\n",
        "        return value * 0.264172\n",
        "    elif unit == 'gal_to_L':\n",
        "        return value / 0.264172\n",
        "    else:\n",
        "        raise ValueError(\"Invalid unit for volume conversion.\")\n",
        "\n",
        "def main():\n",
        "    print(\"Unit Converter\")\n",
        "    print(\"1. Length (Meters to Feet / Feet to Meters)\")\n",
        "    print(\"2. Weight (Kilograms to Pounds / Pounds to Kilograms)\")\n",
        "    print(\"3. Volume (Liters to Gallons / Gallons to Liters)\")\n",
        "\n",
        "    try:\n",
        "        choice = int(input(\"Select conversion type (1-3): \"))\n",
        "        value = float(input(\"Enter the value to convert: \"))\n",
        "\n",
        "        if choice == 1:\n",
        "            unit = input(\"Enter 'm_to_ft' for meters to feet or 'ft_to_m' for feet to meters: \")\n",
        "            result = convert_length(value, unit)\n",
        "        elif choice == 2:\n",
        "            unit = input(\"Enter 'kg_to_lbs' for kg to lbs or 'lbs_to_kg' for lbs to kg: \")\n",
        "            result = convert_weight(value, unit)\n",
        "        elif choice == 3:\n",
        "            unit = input(\"Enter 'L_to_gal' for liters to gallons or 'gal_to_L' for gallons to liters: \")\n",
        "            result = convert_volume(value, unit)\n",
        "        else:\n",
        "            print(\"Invalid choice.\")\n",
        "            return\n",
        "\n",
        "        print(f\"Converted value: {result:.4f}\")\n",
        "    except ValueError as e:\n",
        "        print(f\"Error: {e}\")\n",
        "    except Exception:\n",
        "        print(\"An unexpected error occurred.\")\n",
        "\n",
        "if __name__ == \"__main__\":\n",
        "    main()"
      ],
      "metadata": {
        "colab": {
          "base_uri": "https://localhost:8080/"
        },
        "id": "t0TYJ7mPLNC2",
        "outputId": "b7dbeae3-0409-4039-afb6-4646d79442a1"
      },
      "execution_count": 9,
      "outputs": [
        {
          "output_type": "stream",
          "name": "stdout",
          "text": [
            "Unit Converter\n",
            "1. Length (Meters to Feet / Feet to Meters)\n",
            "2. Weight (Kilograms to Pounds / Pounds to Kilograms)\n",
            "3. Volume (Liters to Gallons / Gallons to Liters)\n",
            "Select conversion type (1-3): 2\n",
            "Enter the value to convert: 2\n",
            "Enter 'kg_to_lbs' for kg to lbs or 'lbs_to_kg' for lbs to kg: lbs_to_kg\n",
            "Converted value: 0.9072\n"
          ]
        }
      ]
    },
    {
      "cell_type": "markdown",
      "source": [
        "#Task 2"
      ],
      "metadata": {
        "id": "C7Ys6XHSL-1Y"
      }
    },
    {
      "cell_type": "code",
      "source": [
        "def calculate_sum(numbers):\n",
        "    \"\"\"\n",
        "    Calculates the sum of a list of numbers.\n",
        "    :param numbers: list of floats.\n",
        "    :return: float, sum of numbers.\n",
        "    \"\"\"\n",
        "    return sum(numbers)\n",
        "\n",
        "def calculate_average(numbers):\n",
        "    \"\"\"\n",
        "    Calculates the average of a list of numbers.\n",
        "    :param numbers: list of floats.\n",
        "    :return: float, average of numbers.\n",
        "    \"\"\"\n",
        "    return sum(numbers) / len(numbers) if numbers else 0\n",
        "\n",
        "def find_maximum(numbers):\n",
        "    \"\"\"\n",
        "    Finds the maximum number in a list.\n",
        "    :param numbers: list of floats.\n",
        "    :return: float, maximum number.\n",
        "    \"\"\"\n",
        "    return max(numbers)\n",
        "\n",
        "def find_minimum(numbers):\n",
        "    \"\"\"\n",
        "    Finds the minimum number in a list.\n",
        "    :param numbers: list of floats.\n",
        "    :return: float, minimum number.\n",
        "    \"\"\"\n",
        "    return min(numbers)\n",
        "\n",
        "def main_math_operations():\n",
        "    print(\"Mathematical Operations\")\n",
        "    try:\n",
        "        numbers = input(\"Enter a list of numbers separated by spaces: \").split()\n",
        "        numbers = [float(num) for num in numbers]\n",
        "        print(\"Choose an operation: sum, average, max, min\")\n",
        "        operation = input(\"Enter operation: \").strip().lower()\n",
        "\n",
        "        if operation == \"sum\":\n",
        "            print(f\"Sum: {calculate_sum(numbers)}\")\n",
        "        elif operation == \"average\":\n",
        "            print(f\"Average: {calculate_average(numbers)}\")\n",
        "        elif operation == \"max\":\n",
        "            print(f\"Maximum: {find_maximum(numbers)}\")\n",
        "        elif operation == \"min\":\n",
        "            print(f\"Minimum: {find_minimum(numbers)}\")\n",
        "        else:\n",
        "            print(\"Invalid operation.\")\n",
        "    except ValueError:\n",
        "        print(\"Invalid input. Please enter numbers only.\")\n",
        "    except Exception:\n",
        "        print(\"An unexpected error occurred.\")\n",
        "\n",
        "def main():\n",
        "    main_math_operations()\n",
        "\n",
        "if __name__ == \"__main__\":\n",
        "    main()"
      ],
      "metadata": {
        "colab": {
          "base_uri": "https://localhost:8080/"
        },
        "id": "8Lf-wVMlMB3P",
        "outputId": "5a991f53-05a8-4784-e0f1-4c8555d08270"
      },
      "execution_count": 14,
      "outputs": [
        {
          "output_type": "stream",
          "name": "stdout",
          "text": [
            "Mathematical Operations\n",
            "Enter a list of numbers separated by spaces: 1 2 33 56 6 7 77 88 \n",
            "Choose an operation: sum, average, max, min\n",
            "Enter operation: max\n",
            "Maximum: 88.0\n"
          ]
        }
      ]
    },
    {
      "cell_type": "markdown",
      "source": [
        "#4.2"
      ],
      "metadata": {
        "id": "Gx5XCKUVMm2N"
      }
    },
    {
      "cell_type": "markdown",
      "source": [
        "1"
      ],
      "metadata": {
        "id": "ibsWhBOlMqVi"
      }
    },
    {
      "cell_type": "code",
      "source": [
        "def extract_every_other(lst):\n",
        "    result = []\n",
        "    for i in range(0, len(lst), 2):\n",
        "        result.append(lst[i])\n",
        "    return result\n",
        "\n",
        "input_list = [1, 2, 3, 4, 5, 6]\n",
        "output_list = extract_every_other(input_list)\n",
        "print(output_list)"
      ],
      "metadata": {
        "colab": {
          "base_uri": "https://localhost:8080/"
        },
        "id": "zC3kHnumMSyj",
        "outputId": "ce28b667-91a9-4dcd-fd7a-1af1027b97a4"
      },
      "execution_count": 18,
      "outputs": [
        {
          "output_type": "stream",
          "name": "stdout",
          "text": [
            "[1, 3, 5]\n"
          ]
        }
      ]
    },
    {
      "cell_type": "markdown",
      "source": [
        "2"
      ],
      "metadata": {
        "id": "uiKt1rtfM2l0"
      }
    },
    {
      "cell_type": "code",
      "source": [
        "def get_sublist(lst, start, end):\n",
        "    result = []\n",
        "    for i in range(start, end):\n",
        "        result.append(lst[i])\n",
        "    return result\n",
        "\n",
        "input_list = [1, 2, 3, 4, 5, 6]\n",
        "sublist = get_sublist(input_list, 2, 5)\n",
        "print(sublist)"
      ],
      "metadata": {
        "colab": {
          "base_uri": "https://localhost:8080/"
        },
        "id": "E_3yS6AtMx0o",
        "outputId": "e729f7ae-48f0-46ba-b00a-b4223e6672cd"
      },
      "execution_count": 19,
      "outputs": [
        {
          "output_type": "stream",
          "name": "stdout",
          "text": [
            "[3, 4, 5]\n"
          ]
        }
      ]
    },
    {
      "cell_type": "markdown",
      "source": [
        "3"
      ],
      "metadata": {
        "id": "X7xRtcQNM72Q"
      }
    },
    {
      "cell_type": "code",
      "source": [
        "def reverse_list(lst):\n",
        "    return lst[::-1]\n",
        "\n",
        "input_list = [1, 2, 3, 4, 5]\n",
        "reversed_list = reverse_list(input_list)\n",
        "# print(reversed_list)"
      ],
      "metadata": {
        "id": "IzWsfQ7BM45z"
      },
      "execution_count": 21,
      "outputs": []
    },
    {
      "cell_type": "markdown",
      "source": [
        "4"
      ],
      "metadata": {
        "id": "4F5iYqHiND2o"
      }
    },
    {
      "cell_type": "code",
      "source": [
        "def remove_first_last(lst):\n",
        "    return lst[1:-1]\n",
        "\n",
        "input_list = [1, 2, 3, 4, 5, 6]\n",
        "result_list = remove_first_last(input_list)\n",
        "print(result_list)"
      ],
      "metadata": {
        "colab": {
          "base_uri": "https://localhost:8080/"
        },
        "id": "qBXapSy9NBVK",
        "outputId": "61c13e86-6485-4284-b541-002cba1266ee"
      },
      "execution_count": 22,
      "outputs": [
        {
          "output_type": "stream",
          "name": "stdout",
          "text": [
            "[2, 3, 4, 5]\n"
          ]
        }
      ]
    },
    {
      "cell_type": "markdown",
      "source": [
        "5"
      ],
      "metadata": {
        "id": "FqTexi2KNIBB"
      }
    },
    {
      "cell_type": "code",
      "source": [
        "def get_first_n(lst, n):\n",
        "    return lst[:n]\n",
        "\n",
        "input_list = [1, 2, 3, 4, 5, 6, 7]\n",
        "n = 4\n",
        "result_list = get_first_n(input_list, n)\n",
        "print(result_list)"
      ],
      "metadata": {
        "colab": {
          "base_uri": "https://localhost:8080/"
        },
        "id": "aZ29KfbLNF73",
        "outputId": "f00ded34-a054-498f-c28e-79e31f980764"
      },
      "execution_count": 24,
      "outputs": [
        {
          "output_type": "stream",
          "name": "stdout",
          "text": [
            "[1, 2, 3, 4]\n"
          ]
        }
      ]
    },
    {
      "cell_type": "markdown",
      "source": [
        "6"
      ],
      "metadata": {
        "id": "nR3n-o83NQl9"
      }
    },
    {
      "cell_type": "code",
      "source": [
        "def get_last_n(lst, n):\n",
        "    return lst[-n:]\n",
        "\n",
        "input_list = [1, 2, 3, 4, 5]\n",
        "n = 2\n",
        "result_list = get_last_n(input_list, n)\n",
        "print(result_list)"
      ],
      "metadata": {
        "colab": {
          "base_uri": "https://localhost:8080/"
        },
        "id": "oN1VpAOuNN5R",
        "outputId": "393ac006-5674-4ff4-cc62-5303ea25f6a4"
      },
      "execution_count": 25,
      "outputs": [
        {
          "output_type": "stream",
          "name": "stdout",
          "text": [
            "[4, 5]\n"
          ]
        }
      ]
    },
    {
      "cell_type": "markdown",
      "source": [
        "7"
      ],
      "metadata": {
        "id": "W6mTFmnxNTUS"
      }
    },
    {
      "cell_type": "code",
      "source": [
        "def reverse_skip(lst):\n",
        "    result = []\n",
        "    for i in range(len(lst) - 2, -1, -2):\n",
        "        result.append(lst[i])\n",
        "    return result\n",
        "\n",
        "input_list = [1, 2, 3, 4, 5, 6]\n",
        "result_list = reverse_skip(input_list)\n",
        "print(result_list)"
      ],
      "metadata": {
        "colab": {
          "base_uri": "https://localhost:8080/"
        },
        "id": "zkEqiFwZNR4I",
        "outputId": "c6888e53-6569-4182-a56b-295e2fed9c5d"
      },
      "execution_count": 26,
      "outputs": [
        {
          "output_type": "stream",
          "name": "stdout",
          "text": [
            "[5, 3, 1]\n"
          ]
        }
      ]
    },
    {
      "cell_type": "markdown",
      "source": [
        "#4.3"
      ],
      "metadata": {
        "id": "XvkvlDpvNWaV"
      }
    },
    {
      "cell_type": "markdown",
      "source": [
        "1"
      ],
      "metadata": {
        "id": "W3yIDW64NZKt"
      }
    },
    {
      "cell_type": "code",
      "source": [
        "def flatten(lst):\n",
        "    result = []\n",
        "    for sublist in lst:\n",
        "        for item in sublist:\n",
        "            result.append(item)\n",
        "    return result\n",
        "\n",
        "input_list = [[1, 2], [3, 4], [5]]\n",
        "flattened_list = flatten(input_list)\n",
        "print(flattened_list)"
      ],
      "metadata": {
        "colab": {
          "base_uri": "https://localhost:8080/"
        },
        "id": "699O7yonNU8V",
        "outputId": "94eaef2a-1dca-4af7-8c6e-7dc82a7e5d04"
      },
      "execution_count": 28,
      "outputs": [
        {
          "output_type": "stream",
          "name": "stdout",
          "text": [
            "[1, 2, 3, 4, 5]\n"
          ]
        }
      ]
    },
    {
      "cell_type": "markdown",
      "source": [
        "2"
      ],
      "metadata": {
        "id": "XLCuBDGYNcUH"
      }
    },
    {
      "cell_type": "code",
      "source": [
        "def access_nested_element(lst, indices):\n",
        "    element = lst\n",
        "    for index in indices:\n",
        "        element = element[index]\n",
        "    return element\n",
        "\n",
        "lst = [[1, 2, 3], [4, 5, 6], [7, 8, 9]]\n",
        "indices = [1, 2]\n",
        "result = access_nested_element(lst, indices)\n",
        "print(result)"
      ],
      "metadata": {
        "colab": {
          "base_uri": "https://localhost:8080/"
        },
        "id": "AHldgOIfNZ7M",
        "outputId": "ca45c090-7a79-457a-c3f1-1d9a337aa0da"
      },
      "execution_count": 29,
      "outputs": [
        {
          "output_type": "stream",
          "name": "stdout",
          "text": [
            "6\n"
          ]
        }
      ]
    },
    {
      "cell_type": "markdown",
      "source": [
        "3"
      ],
      "metadata": {
        "id": "BNqpfAIpNfb3"
      }
    },
    {
      "cell_type": "code",
      "source": [
        "def sum_nested(lst):\n",
        "    total = 0\n",
        "    for element in lst:\n",
        "        if isinstance(element, list):\n",
        "            total += sum_nested(element)\n",
        "        else:\n",
        "            total += element\n",
        "    return total\n",
        "\n",
        "input_list = [[1, 2], [3, [4, 5]], 6]\n",
        "result = sum_nested(input_list)\n",
        "print(result)"
      ],
      "metadata": {
        "colab": {
          "base_uri": "https://localhost:8080/"
        },
        "id": "MAZkCP0oNeT6",
        "outputId": "4c8dd737-2f64-4a70-a7dc-c4b3e30f8003"
      },
      "execution_count": 30,
      "outputs": [
        {
          "output_type": "stream",
          "name": "stdout",
          "text": [
            "21\n"
          ]
        }
      ]
    },
    {
      "cell_type": "markdown",
      "source": [
        "4"
      ],
      "metadata": {
        "id": "w6UV_pZ9NjSF"
      }
    },
    {
      "cell_type": "code",
      "source": [
        "def remove_element(lst, elem):\n",
        "    for i in range(len(lst)):\n",
        "        if isinstance(lst[i], list):\n",
        "            lst[i] = remove_element(lst[i], elem)\n",
        "        elif elem == lst[i]:\n",
        "            lst.pop(i)\n",
        "            return remove_element(lst, elem)\n",
        "    return lst\n",
        "\n",
        "input_list = [[1, 2], [3, 2], [4, 5]]\n",
        "elem_to_remove = 2\n",
        "result = remove_element(input_list, elem_to_remove)\n",
        "print(result)"
      ],
      "metadata": {
        "colab": {
          "base_uri": "https://localhost:8080/"
        },
        "id": "aX_9_AOWNhLj",
        "outputId": "4298f0e9-87d7-43ac-cb97-2ad4458d44cc"
      },
      "execution_count": 31,
      "outputs": [
        {
          "output_type": "stream",
          "name": "stdout",
          "text": [
            "[[1], [3], [4, 5]]\n"
          ]
        }
      ]
    },
    {
      "cell_type": "markdown",
      "source": [
        "5"
      ],
      "metadata": {
        "id": "4lxkqfJbOBlG"
      }
    },
    {
      "cell_type": "code",
      "source": [
        "def find_max(lst):\n",
        "    max_elem = 0\n",
        "\n",
        "    for element in lst:\n",
        "        if isinstance(element, list):\n",
        "            max_elem = max(max_elem, find_max(element))\n",
        "        else:\n",
        "            max_elem = max(max_elem, element)\n",
        "\n",
        "    return max_elem\n",
        "\n",
        "input_list = [[1, 2], [3, [4, 5]], 6]\n",
        "result = find_max(input_list)\n",
        "print(result)"
      ],
      "metadata": {
        "colab": {
          "base_uri": "https://localhost:8080/"
        },
        "id": "SOx6m3XENk3U",
        "outputId": "65f43101-4699-49ff-e637-44c5e0f59305"
      },
      "execution_count": 32,
      "outputs": [
        {
          "output_type": "stream",
          "name": "stdout",
          "text": [
            "6\n"
          ]
        }
      ]
    },
    {
      "cell_type": "markdown",
      "source": [
        "6"
      ],
      "metadata": {
        "id": "h_yKk5i4OEke"
      }
    },
    {
      "cell_type": "code",
      "source": [
        "def count_occurrences(lst, elem):\n",
        "    count = 0\n",
        "\n",
        "    for item in lst:\n",
        "        if isinstance(item, list):\n",
        "            count += count_occurrences(item, elem)\n",
        "        elif item == elem:\n",
        "            count += 1\n",
        "\n",
        "    return count\n",
        "\n",
        "input_list = [[1, 2], [2, 3], [2, 4]]\n",
        "elem_to_count = 2\n",
        "result = count_occurrences(input_list, elem_to_count)\n",
        "print(result)"
      ],
      "metadata": {
        "colab": {
          "base_uri": "https://localhost:8080/"
        },
        "id": "L3ghWxrAOG9j",
        "outputId": "aaf4be77-5a3a-460e-dfb4-21d3ebb2cb40"
      },
      "execution_count": 34,
      "outputs": [
        {
          "output_type": "stream",
          "name": "stdout",
          "text": [
            "3\n"
          ]
        }
      ]
    },
    {
      "cell_type": "markdown",
      "source": [
        "7"
      ],
      "metadata": {
        "id": "Ug3qNNr1OKZW"
      }
    },
    {
      "cell_type": "code",
      "source": [
        "def deep_flatten(lst):\n",
        "    flat_list = []\n",
        "\n",
        "    for item in lst:\n",
        "        if isinstance(item, list):\n",
        "            flat_list.extend(deep_flatten(item))\n",
        "        else:\n",
        "            flat_list.append(item)\n",
        "\n",
        "    return flat_list\n",
        "\n",
        "input_list = [[[1, 2], [3, 4]], [[5, 6], [7, 8]]]\n",
        "result = deep_flatten(input_list)\n",
        "print(result)"
      ],
      "metadata": {
        "colab": {
          "base_uri": "https://localhost:8080/"
        },
        "id": "JnbCMELzOJnX",
        "outputId": "406b7914-9f5b-4d7c-9b79-22f4b3dc1765"
      },
      "execution_count": 35,
      "outputs": [
        {
          "output_type": "stream",
          "name": "stdout",
          "text": [
            "[1, 2, 3, 4, 5, 6, 7, 8]\n"
          ]
        }
      ]
    },
    {
      "cell_type": "markdown",
      "source": [
        "8"
      ],
      "metadata": {
        "id": "ux5i34m3ONZH"
      }
    },
    {
      "cell_type": "code",
      "source": [
        "def average_nested(lst):\n",
        "    total_sum = 0\n",
        "    total_count = 0\n",
        "\n",
        "    def flatten(lst):\n",
        "        nonlocal total_sum, total_count\n",
        "        for item in lst:\n",
        "            if isinstance(item, list):\n",
        "                flatten(item)\n",
        "            else:\n",
        "                total_sum += item\n",
        "                total_count += 1\n",
        "\n",
        "    flatten(lst)\n",
        "    return total_sum / total_count if total_count != 0 else 0\n",
        "\n",
        "input_list = [[1, 2], [3, 4], [5, 6]]\n",
        "result = average_nested(input_list)\n",
        "print(result)"
      ],
      "metadata": {
        "colab": {
          "base_uri": "https://localhost:8080/"
        },
        "id": "Is7mKkQrOMrO",
        "outputId": "abe37df8-2371-4532-9a84-3b3bde865488"
      },
      "execution_count": 36,
      "outputs": [
        {
          "output_type": "stream",
          "name": "stdout",
          "text": [
            "3.5\n"
          ]
        }
      ]
    },
    {
      "cell_type": "markdown",
      "source": [
        "#10.1"
      ],
      "metadata": {
        "id": "R5z85UU3OSAh"
      }
    },
    {
      "cell_type": "markdown",
      "source": [
        "#Problem 1"
      ],
      "metadata": {
        "id": "prr8RaKlOVwA"
      }
    },
    {
      "cell_type": "markdown",
      "source": [
        "# Task 1: Initialize an empty array with size 2x2"
      ],
      "metadata": {
        "id": "JZqaub53QDVH"
      }
    },
    {
      "cell_type": "code",
      "source": [
        "import numpy as np\n",
        "\n",
        "empty_array = np.empty((2, 2))\n",
        "print(\"Empty array (2x2):\")\n",
        "print(empty_array)"
      ],
      "metadata": {
        "colab": {
          "base_uri": "https://localhost:8080/"
        },
        "id": "DuGehmU_OUum",
        "outputId": "f469d972-9230-4088-dd7e-702922436e03"
      },
      "execution_count": 64,
      "outputs": [
        {
          "output_type": "stream",
          "name": "stdout",
          "text": [
            "Empty array (2x2):\n",
            "[[-2.    1.  ]\n",
            " [ 1.75 -0.75]]\n"
          ]
        }
      ]
    },
    {
      "cell_type": "markdown",
      "source": [
        "\n",
        "# Task 2: Initialize an all one array with size 4x2"
      ],
      "metadata": {
        "id": "Ei1EzrbMQI5m"
      }
    },
    {
      "cell_type": "code",
      "source": [
        "ones_array = np.ones((4, 2))\n",
        "print(\"\\nArray of ones (4x2):\")\n",
        "print(ones_array)"
      ],
      "metadata": {
        "colab": {
          "base_uri": "https://localhost:8080/"
        },
        "id": "qQVR1U6OQHZS",
        "outputId": "d81b33dd-eec5-4a9a-8a62-c7a4ec12b491"
      },
      "execution_count": 65,
      "outputs": [
        {
          "output_type": "stream",
          "name": "stdout",
          "text": [
            "\n",
            "Array of ones (4x2):\n",
            "[[1. 1.]\n",
            " [1. 1.]\n",
            " [1. 1.]\n",
            " [1. 1.]]\n"
          ]
        }
      ]
    },
    {
      "cell_type": "markdown",
      "source": [
        "\n",
        "\n",
        "# Task 3: Return a new array of given shape and type, filled with fill value"
      ],
      "metadata": {
        "id": "p2HcuKD9QMnU"
      }
    },
    {
      "cell_type": "code",
      "source": [
        "shape = (3, 3)\n",
        "fill_value = 7\n",
        "filled_array = np.full(shape, fill_value)\n",
        "print(\"\\nArray filled with value 7 (3x3):\")\n",
        "print(filled_array)"
      ],
      "metadata": {
        "colab": {
          "base_uri": "https://localhost:8080/"
        },
        "id": "zxCm7M5-QLR4",
        "outputId": "8c77ff68-d475-4eff-bd18-f7c5214b1850"
      },
      "execution_count": 66,
      "outputs": [
        {
          "output_type": "stream",
          "name": "stdout",
          "text": [
            "\n",
            "Array filled with value 7 (3x3):\n",
            "[[7 7 7]\n",
            " [7 7 7]\n",
            " [7 7 7]]\n"
          ]
        }
      ]
    },
    {
      "cell_type": "markdown",
      "source": [
        "\n",
        "\n",
        "# Task 4: Return a new array of zeros with same shape and type as a given array"
      ],
      "metadata": {
        "id": "l82V7lRZQRmJ"
      }
    },
    {
      "cell_type": "code",
      "source": [
        "existing_array = np.array([1, 2, 3, 4])  # Existing array\n",
        "zeros_array = np.zeros_like(existing_array)\n",
        "print(\"\\nArray of zeros with the same shape and type as existing array:\")\n",
        "print(zeros_array)"
      ],
      "metadata": {
        "colab": {
          "base_uri": "https://localhost:8080/"
        },
        "id": "FBbPOS7mQQKD",
        "outputId": "9ede49db-c570-429b-ec11-6d34bb03d135"
      },
      "execution_count": 67,
      "outputs": [
        {
          "output_type": "stream",
          "name": "stdout",
          "text": [
            "\n",
            "Array of zeros with the same shape and type as existing array:\n",
            "[0 0 0 0]\n"
          ]
        }
      ]
    },
    {
      "cell_type": "markdown",
      "source": [
        "# Task 5: Return a new array of ones with same shape and type as a given array"
      ],
      "metadata": {
        "id": "DE6BLaokQXBk"
      }
    },
    {
      "cell_type": "code",
      "source": [
        "ones_like_array = np.ones_like(existing_array)\n",
        "print(\"\\nArray of ones with the same shape and type as existing array:\")\n",
        "print(ones_like_array)"
      ],
      "metadata": {
        "colab": {
          "base_uri": "https://localhost:8080/"
        },
        "id": "ZoZlR5HDQUYE",
        "outputId": "6aee8abe-2ced-44c8-8ce2-38bbe31039d9"
      },
      "execution_count": 68,
      "outputs": [
        {
          "output_type": "stream",
          "name": "stdout",
          "text": [
            "\n",
            "Array of ones with the same shape and type as existing array:\n",
            "[1 1 1 1]\n"
          ]
        }
      ]
    },
    {
      "cell_type": "markdown",
      "source": [
        "\n",
        "\n",
        "\n",
        "# Task 6: Convert an existing list to a NumPy array"
      ],
      "metadata": {
        "id": "OJnmcXpxQb4m"
      }
    },
    {
      "cell_type": "code",
      "source": [
        "new_list = [1, 2, 3, 4]\n",
        "array_from_list = np.array(new_list)\n",
        "print(\"\\nNumPy array from list [1, 2, 3, 4]:\")\n",
        "print(array_from_list)"
      ],
      "metadata": {
        "colab": {
          "base_uri": "https://localhost:8080/"
        },
        "id": "fDmjOhrmQYOG",
        "outputId": "87da2081-c1d8-4c97-fc70-af3b132269ac"
      },
      "execution_count": 69,
      "outputs": [
        {
          "output_type": "stream",
          "name": "stdout",
          "text": [
            "\n",
            "NumPy array from list [1, 2, 3, 4]:\n",
            "[1 2 3 4]\n"
          ]
        }
      ]
    },
    {
      "cell_type": "markdown",
      "source": [
        "#Problem 2"
      ],
      "metadata": {
        "id": "Umfzk6wMObBB"
      }
    },
    {
      "cell_type": "markdown",
      "source": [
        "# Task 1: Create an array with values ranging from 10 to 49"
      ],
      "metadata": {
        "id": "RRxwOEeQP_Fc"
      }
    },
    {
      "cell_type": "code",
      "source": [
        "import numpy as np\n",
        "\n",
        "array_10_to_49 = np.arange(10, 50)\n",
        "print(\"Array from 10 to 49:\")\n",
        "print(array_10_to_49)"
      ],
      "metadata": {
        "colab": {
          "base_uri": "https://localhost:8080/"
        },
        "id": "9VIUz4v0OZmo",
        "outputId": "3aaf356c-d8aa-4ccb-f23f-81a3e52b5545"
      },
      "execution_count": 70,
      "outputs": [
        {
          "output_type": "stream",
          "name": "stdout",
          "text": [
            "Array from 10 to 49:\n",
            "[10 11 12 13 14 15 16 17 18 19 20 21 22 23 24 25 26 27 28 29 30 31 32 33\n",
            " 34 35 36 37 38 39 40 41 42 43 44 45 46 47 48 49]\n"
          ]
        }
      ]
    },
    {
      "cell_type": "markdown",
      "source": [
        "# Task 2: Create a 3x3 matrix with values ranging from 0 to 8"
      ],
      "metadata": {
        "id": "YhOS6dQzP9sl"
      }
    },
    {
      "cell_type": "code",
      "source": [
        "matrix_3x3 = np.arange(9).reshape(3, 3)\n",
        "print(\"\\n3x3 matrix with values from 0 to 8:\")\n",
        "print(matrix_3x3)"
      ],
      "metadata": {
        "colab": {
          "base_uri": "https://localhost:8080/"
        },
        "id": "Dl2uL3WrOduX",
        "outputId": "6dda2948-20a7-46a5-e87d-10a3325e6ad5"
      },
      "execution_count": 71,
      "outputs": [
        {
          "output_type": "stream",
          "name": "stdout",
          "text": [
            "\n",
            "3x3 matrix with values from 0 to 8:\n",
            "[[0 1 2]\n",
            " [3 4 5]\n",
            " [6 7 8]]\n"
          ]
        }
      ]
    },
    {
      "cell_type": "markdown",
      "source": [
        "# Task 3: Create a 3x3 identity matrix"
      ],
      "metadata": {
        "id": "dy4bNsQEP8WB"
      }
    },
    {
      "cell_type": "code",
      "source": [
        "identity_matrix = np.eye(3)\n",
        "print(\"\\n3x3 identity matrix:\")\n",
        "print(identity_matrix)"
      ],
      "metadata": {
        "colab": {
          "base_uri": "https://localhost:8080/"
        },
        "id": "ry2eDDa5Ofxj",
        "outputId": "8c39f112-c976-45f1-c56b-d32554db82e9"
      },
      "execution_count": 72,
      "outputs": [
        {
          "output_type": "stream",
          "name": "stdout",
          "text": [
            "\n",
            "3x3 identity matrix:\n",
            "[[1. 0. 0.]\n",
            " [0. 1. 0.]\n",
            " [0. 0. 1.]]\n"
          ]
        }
      ]
    },
    {
      "cell_type": "markdown",
      "source": [
        "# Task 4: Create a random array of size 30 and find the mean of the array"
      ],
      "metadata": {
        "id": "zNyCatfeP612"
      }
    },
    {
      "cell_type": "code",
      "source": [
        "random_array = np.random.random(30)\n",
        "mean_value = random_array.mean()\n",
        "print(\"\\nRandom array of size 30:\")\n",
        "print(random_array)\n",
        "print(\"Mean of the random array:\", mean_value)"
      ],
      "metadata": {
        "colab": {
          "base_uri": "https://localhost:8080/"
        },
        "id": "tLH1ucZ-Ogze",
        "outputId": "cfa3257e-5690-4cc5-c3a9-56721d2d3d44"
      },
      "execution_count": 73,
      "outputs": [
        {
          "output_type": "stream",
          "name": "stdout",
          "text": [
            "\n",
            "Random array of size 30:\n",
            "[0.92696488 0.81361329 0.29015157 0.23919034 0.72226123 0.06380515\n",
            " 0.17938892 0.42380723 0.8360304  0.50673124 0.18640006 0.52820338\n",
            " 0.21583466 0.55659777 0.04564099 0.96479644 0.19076225 0.09772582\n",
            " 0.55113059 0.06975187 0.88185293 0.40753892 0.60613951 0.27363484\n",
            " 0.90505588 0.46337802 0.16304753 0.02839188 0.71229373 0.44994149]\n",
            "Mean of the random array: 0.443335426115585\n"
          ]
        }
      ]
    },
    {
      "cell_type": "markdown",
      "source": [
        "# Task 5: Create a 10x10 array with random values and find the minimum and maximum values"
      ],
      "metadata": {
        "id": "Z68Rz0-DP5hm"
      }
    },
    {
      "cell_type": "code",
      "source": [
        "random_10x10 = np.random.random((10, 10))\n",
        "min_value = random_10x10.min()\n",
        "max_value = random_10x10.max()\n",
        "print(\"\\n10x10 array with random values:\")\n",
        "print(random_10x10)\n",
        "print(\"Minimum value:\", min_value)\n",
        "print(\"Maximum value:\", max_value)"
      ],
      "metadata": {
        "colab": {
          "base_uri": "https://localhost:8080/"
        },
        "id": "QR-JxR75Oif3",
        "outputId": "1d24dcf7-d99e-4562-e3ae-6bef94384254"
      },
      "execution_count": 74,
      "outputs": [
        {
          "output_type": "stream",
          "name": "stdout",
          "text": [
            "\n",
            "10x10 array with random values:\n",
            "[[0.11559352 0.0381588  0.78228782 0.80312233 0.90053865 0.10070191\n",
            "  0.39820543 0.81965794 0.85969202 0.77307045]\n",
            " [0.71636302 0.87338478 0.41910737 0.45963192 0.164135   0.37131184\n",
            "  0.87577942 0.30962783 0.75675889 0.44607345]\n",
            " [0.97204658 0.5381964  0.44875058 0.24414021 0.18605372 0.53818068\n",
            "  0.25086154 0.28874077 0.9065373  0.45978682]\n",
            " [0.10467215 0.86432023 0.46832315 0.94061929 0.40605808 0.83607195\n",
            "  0.28446842 0.91283377 0.38910089 0.01418615]\n",
            " [0.56043239 0.8114436  0.41828925 0.28689151 0.15676663 0.0817532\n",
            "  0.41015089 0.01219891 0.3989584  0.88312254]\n",
            " [0.55228733 0.07947439 0.31377778 0.96572132 0.23874474 0.81443264\n",
            "  0.47491546 0.70440419 0.61255502 0.08149434]\n",
            " [0.30881472 0.7783936  0.87021329 0.12253731 0.49154158 0.56391712\n",
            "  0.69948385 0.67649655 0.82109695 0.72645882]\n",
            " [0.18383071 0.87627989 0.70691006 0.87183544 0.49276891 0.94024373\n",
            "  0.51988439 0.03658894 0.46490014 0.79267812]\n",
            " [0.44107825 0.63264349 0.14764231 0.9620809  0.38703925 0.95539201\n",
            "  0.30279303 0.60161287 0.55722253 0.0916629 ]\n",
            " [0.41513841 0.56764536 0.21761459 0.09314805 0.71032949 0.06169718\n",
            "  0.11119949 0.02571487 0.29016252 0.03514869]]\n",
            "Minimum value: 0.012198907908896772\n",
            "Maximum value: 0.9720465761370631\n"
          ]
        }
      ]
    },
    {
      "cell_type": "markdown",
      "source": [
        "# Task 6: Create a zero array of size 10 and replace 5th element with 1"
      ],
      "metadata": {
        "id": "hfNNfVVaP3ro"
      }
    },
    {
      "cell_type": "code",
      "source": [
        "zero_array = np.zeros(10)\n",
        "zero_array[4] = 1\n",
        "print(\"\\nZero array with 5th element replaced with 1:\")\n",
        "print(zero_array)"
      ],
      "metadata": {
        "colab": {
          "base_uri": "https://localhost:8080/"
        },
        "id": "BVsU2zUFOl9l",
        "outputId": "fb29dae6-0117-422f-b526-0dbe2170b3b0"
      },
      "execution_count": 75,
      "outputs": [
        {
          "output_type": "stream",
          "name": "stdout",
          "text": [
            "\n",
            "Zero array with 5th element replaced with 1:\n",
            "[0. 0. 0. 0. 1. 0. 0. 0. 0. 0.]\n"
          ]
        }
      ]
    },
    {
      "cell_type": "markdown",
      "source": [
        "# Task 7: Reverse an array arr = [1, 2, 0, 0, 4, 0]"
      ],
      "metadata": {
        "id": "NpYjyi6NP2HR"
      }
    },
    {
      "cell_type": "code",
      "source": [
        "arr = [1, 2, 0, 0, 4, 0]\n",
        "reversed_arr = arr[::-1]\n",
        "print(\"\\nReversed array:\")\n",
        "print(reversed_arr)"
      ],
      "metadata": {
        "colab": {
          "base_uri": "https://localhost:8080/"
        },
        "id": "CEDebOXCOmb7",
        "outputId": "ff4cd279-deec-4faa-c2d3-bde41bacf5cd"
      },
      "execution_count": 76,
      "outputs": [
        {
          "output_type": "stream",
          "name": "stdout",
          "text": [
            "\n",
            "Reversed array:\n",
            "[0, 4, 0, 0, 2, 1]\n"
          ]
        }
      ]
    },
    {
      "cell_type": "markdown",
      "source": [
        "# Task 8: Create a 2D array with 1 on the border and 0 inside"
      ],
      "metadata": {
        "id": "tVWfnqsOP0lV"
      }
    },
    {
      "cell_type": "code",
      "source": [
        "border_array = np.ones((5, 5))\n",
        "border_array[1:-1, 1:-1] = 0\n",
        "print(\"\\n2D array with 1 on the border and 0 inside:\")\n",
        "print(border_array)"
      ],
      "metadata": {
        "colab": {
          "base_uri": "https://localhost:8080/"
        },
        "id": "ZYiHtK_mOnuO",
        "outputId": "027bf794-5260-4058-d6ac-b2c9e51cee43"
      },
      "execution_count": 77,
      "outputs": [
        {
          "output_type": "stream",
          "name": "stdout",
          "text": [
            "\n",
            "2D array with 1 on the border and 0 inside:\n",
            "[[1. 1. 1. 1. 1.]\n",
            " [1. 0. 0. 0. 1.]\n",
            " [1. 0. 0. 0. 1.]\n",
            " [1. 0. 0. 0. 1.]\n",
            " [1. 1. 1. 1. 1.]]\n"
          ]
        }
      ]
    },
    {
      "cell_type": "markdown",
      "source": [
        "# Task 9: Create an 8x8 matrix and fill it with a checkerboard pattern"
      ],
      "metadata": {
        "id": "0ktHN-k4PzTT"
      }
    },
    {
      "cell_type": "code",
      "source": [
        "checkerboard = np.zeros((8, 8), dtype=int)\n",
        "checkerboard[1::2, ::2] = 1\n",
        "checkerboard[::2, 1::2] = 1\n",
        "print(\"\\n8x8 checkerboard pattern:\")\n",
        "print(checkerboard)"
      ],
      "metadata": {
        "colab": {
          "base_uri": "https://localhost:8080/"
        },
        "id": "N57DCT-YOpEE",
        "outputId": "a8bbcc2c-bbb7-4e62-c223-f8c7c6a836a6"
      },
      "execution_count": 78,
      "outputs": [
        {
          "output_type": "stream",
          "name": "stdout",
          "text": [
            "\n",
            "8x8 checkerboard pattern:\n",
            "[[0 1 0 1 0 1 0 1]\n",
            " [1 0 1 0 1 0 1 0]\n",
            " [0 1 0 1 0 1 0 1]\n",
            " [1 0 1 0 1 0 1 0]\n",
            " [0 1 0 1 0 1 0 1]\n",
            " [1 0 1 0 1 0 1 0]\n",
            " [0 1 0 1 0 1 0 1]\n",
            " [1 0 1 0 1 0 1 0]]\n"
          ]
        }
      ]
    },
    {
      "cell_type": "markdown",
      "source": [
        "#Problem 3"
      ],
      "metadata": {
        "id": "0CRYzX3IOr1P"
      }
    },
    {
      "cell_type": "markdown",
      "source": [
        "# Task 1: Add the two arrays"
      ],
      "metadata": {
        "id": "vFsi2JctPxkM"
      }
    },
    {
      "cell_type": "code",
      "source": [
        "import numpy as np\n",
        "\n",
        "# Given arrays\n",
        "x = np.array([[1, 2], [3, 5]])\n",
        "y = np.array([[5, 6], [7, 8]])\n",
        "v = np.array([9, 10])\n",
        "w = np.array([11, 12])\n",
        "\n",
        "add_arrays = x + y\n",
        "print(\"Task 1: Sum of x and y:\")\n",
        "print(add_arrays)"
      ],
      "metadata": {
        "colab": {
          "base_uri": "https://localhost:8080/"
        },
        "id": "cZzIdSzbOqrW",
        "outputId": "312fcede-7d75-4356-a866-5d289aece134"
      },
      "execution_count": 79,
      "outputs": [
        {
          "output_type": "stream",
          "name": "stdout",
          "text": [
            "Task 1: Sum of x and y:\n",
            "[[ 6  8]\n",
            " [10 13]]\n"
          ]
        }
      ]
    },
    {
      "cell_type": "markdown",
      "source": [
        "# Task 2: Subtract the two arrays"
      ],
      "metadata": {
        "id": "FdbgaIBnPvv3"
      }
    },
    {
      "cell_type": "code",
      "source": [
        "subtract_arrays = x - y\n",
        "print(\"\\nTask 2: Difference of x and y:\")\n",
        "print(subtract_arrays)"
      ],
      "metadata": {
        "colab": {
          "base_uri": "https://localhost:8080/"
        },
        "id": "TgWFj-3WOupv",
        "outputId": "0888d730-f8a8-4f55-dc01-430feb04eea0"
      },
      "execution_count": 80,
      "outputs": [
        {
          "output_type": "stream",
          "name": "stdout",
          "text": [
            "\n",
            "Task 2: Difference of x and y:\n",
            "[[-4 -4]\n",
            " [-4 -3]]\n"
          ]
        }
      ]
    },
    {
      "cell_type": "markdown",
      "source": [
        "# Task 3: Multiply the array with any integers of your choice (let's multiply by 2)"
      ],
      "metadata": {
        "id": "tJUSW6HjPuRe"
      }
    },
    {
      "cell_type": "code",
      "source": [
        "multiply_array = x * 2\n",
        "print(\"\\nTask 3: x multiplied by 2:\")\n",
        "print(multiply_array)"
      ],
      "metadata": {
        "colab": {
          "base_uri": "https://localhost:8080/"
        },
        "id": "ZAHbqnyWOv_z",
        "outputId": "11450191-6d1b-487e-ee7b-39a94deb5f4e"
      },
      "execution_count": 81,
      "outputs": [
        {
          "output_type": "stream",
          "name": "stdout",
          "text": [
            "\n",
            "Task 3: x multiplied by 2:\n",
            "[[ 2  4]\n",
            " [ 6 10]]\n"
          ]
        }
      ]
    },
    {
      "cell_type": "markdown",
      "source": [
        "# Task 4: Find the square of each element of the array"
      ],
      "metadata": {
        "id": "2Py3ELd0Pskt"
      }
    },
    {
      "cell_type": "code",
      "source": [
        "square_elements = np.square(x)\n",
        "print(\"\\nTask 4: Square of each element in x:\")\n",
        "print(square_elements)"
      ],
      "metadata": {
        "colab": {
          "base_uri": "https://localhost:8080/"
        },
        "id": "GkhYjZ-JOzpe",
        "outputId": "a5ed1666-2a16-4a6c-c672-72e742dfd133"
      },
      "execution_count": 82,
      "outputs": [
        {
          "output_type": "stream",
          "name": "stdout",
          "text": [
            "\n",
            "Task 4: Square of each element in x:\n",
            "[[ 1  4]\n",
            " [ 9 25]]\n"
          ]
        }
      ]
    },
    {
      "cell_type": "markdown",
      "source": [
        "# Task 5: Find the dot product between v and w, x and v, x and y"
      ],
      "metadata": {
        "id": "AF0EywVgPrCQ"
      }
    },
    {
      "cell_type": "code",
      "source": [
        "dot_v_w = np.dot(v, w)\n",
        "dot_x_v = np.dot(x, v)\n",
        "dot_x_y = np.dot(x, y)\n",
        "\n",
        "print(\"\\nTask 5: Dot Products\")\n",
        "print(\"Dot product of v and w:\", dot_v_w)\n",
        "print(\"Dot product of x and v:\", dot_x_v)\n",
        "print(\"Dot product of x and y:\", dot_x_y)"
      ],
      "metadata": {
        "colab": {
          "base_uri": "https://localhost:8080/"
        },
        "id": "SyfF4Bk-O08-",
        "outputId": "e8516764-313a-4dea-df64-04423533f28e"
      },
      "execution_count": 83,
      "outputs": [
        {
          "output_type": "stream",
          "name": "stdout",
          "text": [
            "\n",
            "Task 5: Dot Products\n",
            "Dot product of v and w: 219\n",
            "Dot product of x and v: [29 77]\n",
            "Dot product of x and y: [[19 22]\n",
            " [50 58]]\n"
          ]
        }
      ]
    },
    {
      "cell_type": "markdown",
      "source": [
        "# Task 6: Concatenate x and y along rows and concatenate v and w along columns"
      ],
      "metadata": {
        "id": "_M9mhDFtPo6K"
      }
    },
    {
      "cell_type": "code",
      "source": [
        "concat_x_y_row = np.concatenate((x, y), axis=0)\n",
        "concat_v_w_col = np.concatenate((v.reshape(-1, 1), w.reshape(-1, 1)), axis=1)\n",
        "\n",
        "print(\"\\nTask 6: Concatenation\")\n",
        "print(\"x and y concatenated along rows:\")\n",
        "print(concat_x_y_row)\n",
        "print(\"v and w concatenated along columns:\")\n",
        "print(concat_v_w_col)"
      ],
      "metadata": {
        "colab": {
          "base_uri": "https://localhost:8080/"
        },
        "id": "_tFXJ49bO23S",
        "outputId": "eca45036-c0a0-4098-8197-8852242c461b"
      },
      "execution_count": 84,
      "outputs": [
        {
          "output_type": "stream",
          "name": "stdout",
          "text": [
            "\n",
            "Task 6: Concatenation\n",
            "x and y concatenated along rows:\n",
            "[[1 2]\n",
            " [3 5]\n",
            " [5 6]\n",
            " [7 8]]\n",
            "v and w concatenated along columns:\n",
            "[[ 9 11]\n",
            " [10 12]]\n"
          ]
        }
      ]
    },
    {
      "cell_type": "markdown",
      "source": [
        "# Task 7: Concatenate x and v; if you get an error, observe and explain why"
      ],
      "metadata": {
        "id": "0HsjE9BLPnZH"
      }
    },
    {
      "cell_type": "code",
      "source": [
        "try:\n",
        "    concat_x_v = np.concatenate((x, v), axis=0)\n",
        "    print(\"\\nTask 7: Concatenate x and v:\")\n",
        "    print(concat_x_v)\n",
        "except ValueError as e:\n",
        "    print(\"\\nTask 7 Error:\", e)"
      ],
      "metadata": {
        "colab": {
          "base_uri": "https://localhost:8080/"
        },
        "id": "ujQj-hX_O4W-",
        "outputId": "e9682ee3-68ad-492e-b9b8-baa93693c0a7"
      },
      "execution_count": 85,
      "outputs": [
        {
          "output_type": "stream",
          "name": "stdout",
          "text": [
            "\n",
            "Task 7 Error: all the input arrays must have same number of dimensions, but the array at index 0 has 2 dimension(s) and the array at index 1 has 1 dimension(s)\n"
          ]
        }
      ]
    },
    {
      "cell_type": "markdown",
      "source": [
        "#Problem 4"
      ],
      "metadata": {
        "id": "qE6AHm1sO7nJ"
      }
    },
    {
      "cell_type": "markdown",
      "source": [
        "# Task 1: A * A^(-1) = I"
      ],
      "metadata": {
        "id": "QJVVdAunPkDy"
      }
    },
    {
      "cell_type": "code",
      "source": [
        "# Given Matrices A and B\n",
        "A = np.array([[3, 4], [7, 8]])\n",
        "B = np.array([[5, 3], [2, 1]])\n",
        "\n",
        "A_inv = np.linalg.inv(A)\n",
        "identity_matrix = np.dot(A, A_inv)\n",
        "print(\"Task 1: A * A^(-1) = I:\")\n",
        "print(identity_matrix)"
      ],
      "metadata": {
        "colab": {
          "base_uri": "https://localhost:8080/"
        },
        "id": "V3ta7J3-O6Or",
        "outputId": "14594eef-f04a-476b-d08b-6e2f9a8cac26"
      },
      "execution_count": 86,
      "outputs": [
        {
          "output_type": "stream",
          "name": "stdout",
          "text": [
            "Task 1: A * A^(-1) = I:\n",
            "[[1.00000000e+00 0.00000000e+00]\n",
            " [1.77635684e-15 1.00000000e+00]]\n"
          ]
        }
      ]
    },
    {
      "cell_type": "markdown",
      "source": [
        "# Task 2: AB != BA"
      ],
      "metadata": {
        "id": "zDkuhREtPhP3"
      }
    },
    {
      "cell_type": "code",
      "source": [
        "AB = np.dot(A, B)\n",
        "BA = np.dot(B, A)\n",
        "print(\"\\nTask 2: AB and BA:\")\n",
        "print(\"AB:\")\n",
        "print(AB)\n",
        "print(\"BA:\")\n",
        "print(BA)\n",
        "are_equal = np.array_equal(AB, BA)\n",
        "print(\"Are AB and BA equal?\", are_equal)"
      ],
      "metadata": {
        "colab": {
          "base_uri": "https://localhost:8080/"
        },
        "id": "ybiguo8fO-Ik",
        "outputId": "6ebd74cb-8731-41e3-811e-876fc12e0fba"
      },
      "execution_count": 87,
      "outputs": [
        {
          "output_type": "stream",
          "name": "stdout",
          "text": [
            "\n",
            "Task 2: AB and BA:\n",
            "AB:\n",
            "[[23 13]\n",
            " [51 29]]\n",
            "BA:\n",
            "[[36 44]\n",
            " [13 16]]\n",
            "Are AB and BA equal? False\n"
          ]
        }
      ]
    },
    {
      "cell_type": "markdown",
      "source": [
        "# Task 3: (AB)^T = B^T A^T"
      ],
      "metadata": {
        "id": "k0SGUrSfPfhP"
      }
    },
    {
      "cell_type": "code",
      "source": [
        "AB_transpose = np.transpose(AB)\n",
        "BT_AT = np.dot(np.transpose(B), np.transpose(A))\n",
        "print(\"\\nTask 3: (AB)^T and B^T A^T:\")\n",
        "print(\"Transpose of AB:\")\n",
        "print(AB_transpose)\n",
        "print(\"B^T * A^T:\")\n",
        "print(BT_AT)\n",
        "are_equal_transposes = np.array_equal(AB_transpose, BT_AT)\n",
        "print(\"Are (AB)^T and B^T * A^T equal?\", are_equal_transposes)"
      ],
      "metadata": {
        "colab": {
          "base_uri": "https://localhost:8080/"
        },
        "id": "zsGc2xHGO_Xj",
        "outputId": "464b988c-fc36-4b3f-d9e4-22519d9678ff"
      },
      "execution_count": 88,
      "outputs": [
        {
          "output_type": "stream",
          "name": "stdout",
          "text": [
            "\n",
            "Task 3: (AB)^T and B^T A^T:\n",
            "Transpose of AB:\n",
            "[[23 51]\n",
            " [13 29]]\n",
            "B^T * A^T:\n",
            "[[23 51]\n",
            " [13 29]]\n",
            "Are (AB)^T and B^T * A^T equal? True\n"
          ]
        }
      ]
    },
    {
      "cell_type": "markdown",
      "source": [
        "# Task 4: Solve the system of Linear equations using Inverse Method"
      ],
      "metadata": {
        "id": "Eq7VpB2lPd4h"
      }
    },
    {
      "cell_type": "code",
      "source": [
        "A_matrix = np.array([[2, -3, 1], [1, -1, 2], [3, 1, -1]])\n",
        "B_vector = np.array([-1, -3, 9])\n",
        "\n",
        "A_inv = np.linalg.inv(A_matrix)\n",
        "X = np.dot(A_inv, B_vector)\n",
        "print(\"\\nTask 4: Solving Linear Equation System using Inverse Method:\")\n",
        "print(\"Solution (x, y, z):\")\n",
        "print(X)"
      ],
      "metadata": {
        "colab": {
          "base_uri": "https://localhost:8080/"
        },
        "id": "7ZUPKLXCPAdY",
        "outputId": "5e7f75ad-66a4-4e5b-c523-7e6b8926448a"
      },
      "execution_count": 89,
      "outputs": [
        {
          "output_type": "stream",
          "name": "stdout",
          "text": [
            "\n",
            "Task 4: Solving Linear Equation System using Inverse Method:\n",
            "Solution (x, y, z):\n",
            "[ 2.  1. -2.]\n"
          ]
        }
      ]
    },
    {
      "cell_type": "markdown",
      "source": [
        "# Task 5: Solve the system of Linear equations using np.linalg.inv()"
      ],
      "metadata": {
        "id": "-kO_VPdpPbhq"
      }
    },
    {
      "cell_type": "code",
      "source": [
        "X_solution = np.linalg.inv(A_matrix).dot(B_vector)\n",
        "print(\"\\nTask 5: Solve using np.linalg.inv:\")\n",
        "print(\"Solution (x, y, z):\")\n",
        "print(X_solution)"
      ],
      "metadata": {
        "colab": {
          "base_uri": "https://localhost:8080/"
        },
        "id": "B2if9xiuPB2x",
        "outputId": "0d78b50c-5228-4d9d-b50f-70bf6a0a87fe"
      },
      "execution_count": 90,
      "outputs": [
        {
          "output_type": "stream",
          "name": "stdout",
          "text": [
            "\n",
            "Task 5: Solve using np.linalg.inv:\n",
            "Solution (x, y, z):\n",
            "[ 2.  1. -2.]\n"
          ]
        }
      ]
    },
    {
      "cell_type": "markdown",
      "source": [
        "#10.2"
      ],
      "metadata": {
        "id": "H58DfHUmPEWy"
      }
    },
    {
      "cell_type": "markdown",
      "source": [
        "# 1. Element-wise Addition"
      ],
      "metadata": {
        "id": "Z4korA2JPYzC"
      }
    },
    {
      "cell_type": "code",
      "source": [
        "import time\n",
        "import numpy as np\n",
        "\n",
        "# Define the size\n",
        "size = 1000000\n",
        "matrix_size = 1000\n",
        "\n",
        "# Using Python lists\n",
        "list1 = [i for i in range(size)]\n",
        "list2 = [i for i in range(size)]\n",
        "\n",
        "start_time = time.time()\n",
        "list_add = [list1[i] + list2[i] for i in range(size)]\n",
        "python_list_add_time = time.time() - start_time\n",
        "print(f\"Element-wise addition using Python lists took: {python_list_add_time:.6f} seconds.\")\n",
        "\n",
        "# Using Numpy arrays\n",
        "np_array1 = np.arange(size)\n",
        "np_array2 = np.arange(size)\n",
        "\n",
        "start_time = time.time()\n",
        "np_array_add = np_array1 + np_array2\n",
        "numpy_array_add_time = time.time() - start_time\n",
        "print(f\"Element-wise addition using NumPy arrays took: {numpy_array_add_time:.6f} seconds.\")"
      ],
      "metadata": {
        "colab": {
          "base_uri": "https://localhost:8080/"
        },
        "id": "shSFhGrUPDCg",
        "outputId": "7ee6d7b8-6825-44f7-90fc-6910c0918f71"
      },
      "execution_count": 96,
      "outputs": [
        {
          "output_type": "stream",
          "name": "stdout",
          "text": [
            "Element-wise addition using Python lists took: 0.077117 seconds.\n",
            "Element-wise addition using NumPy arrays took: 0.004452 seconds.\n"
          ]
        }
      ]
    },
    {
      "cell_type": "markdown",
      "source": [
        "# 2. Element-wise Multiplication"
      ],
      "metadata": {
        "id": "3NGtw8nWPU7C"
      }
    },
    {
      "cell_type": "code",
      "source": [
        "# Using Python lists\n",
        "start_time = time.time()\n",
        "list_mul = [list1[i] * list2[i] for i in range(size)]\n",
        "python_list_mul_time = time.time() - start_time\n",
        "print(f\"Element-wise multiplication using Python lists took: {python_list_mul_time:.6f} seconds.\")\n",
        "\n",
        "# Using Numpy arrays\n",
        "start_time = time.time()\n",
        "np_array_mul = np_array1 * np_array2\n",
        "numpy_array_mul_time = time.time() - start_time\n",
        "print(f\"Element-wise multiplication using NumPy arrays took: {numpy_array_mul_time:.6f} seconds.\")"
      ],
      "metadata": {
        "colab": {
          "base_uri": "https://localhost:8080/"
        },
        "id": "Wfennv3TPG2S",
        "outputId": "f5df30c6-640b-434a-8d00-01dc357e8ed3"
      },
      "execution_count": 97,
      "outputs": [
        {
          "output_type": "stream",
          "name": "stdout",
          "text": [
            "Element-wise multiplication using Python lists took: 0.087663 seconds.\n",
            "Element-wise multiplication using NumPy arrays took: 0.005229 seconds.\n"
          ]
        }
      ]
    },
    {
      "cell_type": "markdown",
      "source": [
        "# 3. Dot Product"
      ],
      "metadata": {
        "id": "NbhucQ-FPSP8"
      }
    },
    {
      "cell_type": "code",
      "source": [
        "# Using Python lists\n",
        "start_time = time.time()\n",
        "dot_product_python = sum(list1[i] * list2[i] for i in range(size))\n",
        "python_dot_product_time = time.time() - start_time\n",
        "print(f\"Dot product using Python lists took: {python_dot_product_time:.6f} seconds.\")\n",
        "\n",
        "# Using Numpy arrays\n",
        "start_time = time.time()\n",
        "np_dot_product = np.dot(np_array1, np_array2)\n",
        "numpy_dot_product_time = time.time() - start_time\n",
        "print(f\"Dot product using NumPy arrays took: {numpy_dot_product_time:.6f} seconds.\")"
      ],
      "metadata": {
        "colab": {
          "base_uri": "https://localhost:8080/"
        },
        "id": "TqK-XORSPH_W",
        "outputId": "2e30accf-d17b-421e-cdde-897efaa44113"
      },
      "execution_count": 98,
      "outputs": [
        {
          "output_type": "stream",
          "name": "stdout",
          "text": [
            "Dot product using Python lists took: 0.132015 seconds.\n",
            "Dot product using NumPy arrays took: 0.001895 seconds.\n"
          ]
        }
      ]
    },
    {
      "cell_type": "markdown",
      "source": [
        "# 4. Matrix Multiplication"
      ],
      "metadata": {
        "id": "o5ni_e_mPMfa"
      }
    },
    {
      "cell_type": "code",
      "source": [
        "# Using Python lists\n",
        "matrix1 = [[i+j for j in range(matrix_size)] for i in range(matrix_size)]\n",
        "matrix2 = [[i-j for j in range(matrix_size)] for i in range(matrix_size)]\n",
        "\n",
        "start_time = time.time()\n",
        "matrix_mul_python = [[sum(matrix1[i][k] * matrix2[k][j] for k in range(matrix_size)) for j in range(matrix_size)] for i in range(matrix_size)]\n",
        "python_matrix_mul_time = time.time() - start_time\n",
        "print(f\"Matrix multiplication using Python lists took: {python_matrix_mul_time:.6f} seconds.\")\n",
        "\n",
        "# Using Numpy arrays\n",
        "np_matrix1 = np.random.rand(matrix_size, matrix_size)\n",
        "np_matrix2 = np.random.rand(matrix_size, matrix_size)\n",
        "\n",
        "start_time = time.time()\n",
        "matrix_mul_numpy = np.dot(np_matrix1, np_matrix2)\n",
        "numpy_matrix_mul_time = time.time() - start_time\n",
        "print(f\"Matrix multiplication using NumPy arrays took: {numpy_matrix_mul_time:.6f} seconds.\")"
      ],
      "metadata": {
        "colab": {
          "base_uri": "https://localhost:8080/"
        },
        "id": "5RV8tTNePJhn",
        "outputId": "7e05867b-f9f5-4791-8394-b13b9095b799"
      },
      "execution_count": 95,
      "outputs": [
        {
          "output_type": "stream",
          "name": "stdout",
          "text": [
            "Matrix multiplication using Python lists took: 191.215912 seconds.\n",
            "Matrix multiplication using NumPy arrays took: 0.066111 seconds.\n"
          ]
        }
      ]
    }
  ]
}